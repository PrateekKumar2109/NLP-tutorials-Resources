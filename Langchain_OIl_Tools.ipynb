{
  "nbformat": 4,
  "nbformat_minor": 0,
  "metadata": {
    "colab": {
      "provenance": []
    },
    "kernelspec": {
      "name": "python3",
      "display_name": "Python 3"
    },
    "language_info": {
      "name": "python"
    }
  },
  "cells": [
    {
      "cell_type": "code",
      "execution_count": null,
      "metadata": {
        "id": "xrRbyj_FWyF5"
      },
      "outputs": [],
      "source": [
        "!pip install cohere"
      ]
    },
    {
      "cell_type": "code",
      "source": [
        "!pip install langchain"
      ],
      "metadata": {
        "id": "k8biAA3QbcFG"
      },
      "execution_count": null,
      "outputs": []
    },
    {
      "cell_type": "code",
      "source": [
        "!pip install faiss-cpu"
      ],
      "metadata": {
        "id": "X_FUTseubkh-"
      },
      "execution_count": null,
      "outputs": []
    },
    {
      "cell_type": "code",
      "source": [
        "from langchain.embeddings.openai import OpenAIEmbeddings\n",
        "from langchain.vectorstores import Chroma\n",
        "from langchain.text_splitter import CharacterTextSplitter,TextSplitter\n",
        "from langchain import OpenAI, VectorDBQA\n",
        "from langchain.document_loaders import DirectoryLoader\n",
        "from langchain.agents import initialize_agent, Tool\n",
        "#import magic\n",
        "import os\n",
        "import nltk\n",
        "from langchain.prompts.prompt import PromptTemplate\n",
        "from langchain.text_splitter import RecursiveCharacterTextSplitter\n",
        "from langchain.document_loaders import ReadTheDocsLoader\n",
        "from langchain.vectorstores.faiss import FAISS\n",
        "from langchain.embeddings import OpenAIEmbeddings\n",
        "import pickle\n",
        "from langchain.chains import ConversationChain\n",
        "from langchain.llms import OpenAI,Cohere\n",
        "from langchain.vectorstores.faiss import FAISS\n",
        "from langchain.embeddings import OpenAIEmbeddings,CohereEmbeddings\n",
        "from langchain.chains import ChatVectorDBChain\n",
        "import pickle\n",
        "from langchain import OpenAI, VectorDBQA\n",
        "from langchain.prompts.prompt import PromptTemplate\n",
        "\n"
      ],
      "metadata": {
        "id": "uE5DmzjHbZ5S"
      },
      "execution_count": 5,
      "outputs": []
    },
    {
      "cell_type": "code",
      "source": [
        "import numpy as np\n",
        "import pandas as pd\n",
        "from scipy.interpolate import interp1d\n",
        "\n",
        "def GasInflow(pr, J, GasPVT, n=10):\n",
        "    # Calculate PseudoPressure\n",
        "    GasPVT['Ps'] = 2 * GasPVT['P'] / (GasPVT['Mug'] * GasPVT['Z'])\n",
        "\n",
        "    # Integral Matrix\n",
        "    Integral = pd.DataFrame()\n",
        "\n",
        "    # Transfer Pressure to Integrate Matrix\n",
        "    Integral['P'] = GasPVT['P'][1:]\n",
        "\n",
        "    # Pressure Differences\n",
        "    Integral['DiffP'] = np.diff(GasPVT['P'])\n",
        "\n",
        "    # PseudoPressure Average\n",
        "    Integral['AvgPs'] = 0.0\n",
        "    for i in range(len(GasPVT) - 1):\n",
        "        Integral.loc[i, 'AvgPs'] = (GasPVT.loc[i + 1, 'Ps'] + GasPVT.loc[i, 'Ps']) / 2\n",
        "\n",
        "    # Cumulative sum\n",
        "    Integral['Cum'] = Integral['DiffP'] * Integral['AvgPs']\n",
        "    Integral['Cum'] = Integral['Cum'].cumsum()\n",
        "\n",
        "    # Interpolation Integral\n",
        "    mp = interp1d(Integral['P'], Integral['Cum'])\n",
        "\n",
        "    # IPR Estimation\n",
        "    pres = np.zeros((n, len(pr)))\n",
        "    Qg = np.zeros((n, len(pr) * len(J)))\n",
        "    leg = [None] * (len(pr) * len(J))\n",
        "    count = 0\n",
        "    for p in range(len(pr)):\n",
        "        pres[:, p] = np.linspace(14.7, pr[p] - 50, n)\n",
        "\n",
        "        for j in range(len(J)):\n",
        "            count += 1\n",
        "            leg[count - 1] = f\"Res. Pressure={pr[p]} psi; J={J[j]} Mscf/d*psi*cp\"\n",
        "            Qg[:, count - 1] = [J[j] * (mp(pr[p]) - mp(pwf)) for pwf in pres[:, p]]\n",
        "\n",
        "    return pres, Qg, leg\n"
      ],
      "metadata": {
        "id": "SNlGk4bA3BV4"
      },
      "execution_count": 6,
      "outputs": []
    },
    {
      "cell_type": "code",
      "source": [
        "import numpy as np\n",
        "\n",
        "def oil_inflow(pr, J, pb=0, n=10):\n",
        "    pr = np.array(pr, dtype=float)\n",
        "    J = np.array(J, dtype=float)\n",
        "    pb = np.array(pb, dtype=float)\n",
        "\n",
        "    pres = np.zeros((n, len(pr)))\n",
        "    qrate = np.zeros((n, len(pr) * len(J)))\n",
        "    sat = pr <= pb\n",
        "\n",
        "    leg = [None] * (len(pr) * len(J))\n",
        "    count = 0\n",
        "\n",
        "    for p in range(len(pr)):\n",
        "        pres[:, p] = np.linspace(0, pr[p] - 50, n)\n",
        "\n",
        "        for j in range(len(J)):\n",
        "            count += 1\n",
        "            leg[count - 1] = f\"Res. Pressure={pr[p]} psi; J={J[j]} bbl/d*psi\"\n",
        "\n",
        "            if sat[p]:\n",
        "                qrate[:, count - 1] = [(pr[p] * J[j] / 1.8) * (1 - 0.2 * (pwf / pr[p]) - 0.8 * (pwf / pr[p]) ** 2) for pwf in pres[:, p]]\n",
        "            else:\n",
        "                qrate[:, count - 1] = [J[j] * (pr[p] - pwf) if pwf >= pb else (J[j] * (pr[p] - pb)) + (J[j] * pb / 1.8) * (1 - 0.2 * (pwf / pb) - 0.8 * (pwf / pb) ** 2) for pwf in pres[:, p]]\n",
        "\n",
        "    return pres, qrate, leg\n",
        "\n"
      ],
      "metadata": {
        "id": "JBvIusDA3YZn"
      },
      "execution_count": 7,
      "outputs": []
    },
    {
      "cell_type": "code",
      "source": [
        "import matplotlib.pyplot as plt\n",
        "#from some_module import OilInflow, GasInflow\n",
        "\n",
        "def iproil_plot(string):\n",
        "    #Pr, J,Pb = string.split(\",\")\n",
        "    split_list = string.split(',')\n",
        "    \n",
        "    result = [float(item) for item in split_list]\n",
        "    Pr=result[0:1]\n",
        "    J= result[1:2]\n",
        "    Pb= result[2:3]\n",
        "    N=15\n",
        "    p, q, l = oil_inflow(Pr, J, pb=Pb, n=N)\n",
        "\n",
        "    plt.plot(q, p, color='black', linewidth=3)\n",
        "    plt.xlabel(\"Rate [bbl/d]\")\n",
        "    plt.ylabel(\"Pwf [psi]\")\n",
        "    plt.title('IPR Plot')\n",
        "    plt.legend([l])\n",
        "    plt.show()"
      ],
      "metadata": {
        "id": "1R3d7yuA3Y9n"
      },
      "execution_count": 8,
      "outputs": []
    },
    {
      "cell_type": "code",
      "source": [
        "def calculate_pressure(input_str):\n",
        "    # split the input string into depth and mud weight values\n",
        "    depth, mud_weight = input_str.split(',')\n",
        "    \n",
        "    # convert depth and mud weight to floats\n",
        "    depth = float(depth)\n",
        "    mud_weight = float(mud_weight)\n",
        "    \n",
        "    # calculate pressure using the formula: pressure = 0.016 * depth * mud_weight\n",
        "    pressure = 0.1706 * depth * mud_weight\n",
        "    \n",
        "    # return the pressure value\n",
        "    return int(pressure)\n"
      ],
      "metadata": {
        "id": "p9YkpDeLa9nm"
      },
      "execution_count": 19,
      "outputs": []
    },
    {
      "cell_type": "code",
      "source": [
        "llm=Cohere(model=\"command-xlarge-nightly\", cohere_api_key=\"vGCEakgncpouo9Nz0rsJ0Bq7XRvwNgTCZMKSohlg\",temperature=0)\n",
        "tools = [\n",
        "    Tool(\n",
        "        name = \"IPR Plotter\",\n",
        "        func=iproil_plot,\n",
        "        description=\"useful for when you need to plot IPR curve. The input to this tool should be a comma separated list of numbers of length three, representing the three numbers you want to give input to function.\\nFor example, 2200,1.5,750 would be the input if you wanted to plot reservoir pressure Pr is 2200,J is 1.5,Pb is 750 .\",\n",
        "        return_direct=True \n",
        "    ),\n",
        "    Tool(\n",
        "        name = \"Pressure Calculator\",\n",
        "        func=calculate_pressure,\n",
        "        description=\"useful for when you need to calculate pressures from mud density. The input to this tool should be a comma separated list of numbers of length two, representing the two numbers you want to give input to function.\\nFor example 2100,8.6 would be the input if you wanted to calculate pressure where Depth is 2100 and Mud_weight  is 8.6 .\",\n",
        "        return_direct=True \n",
        "    )\n",
        "]"
      ],
      "metadata": {
        "id": "-l-xBZwG311J"
      },
      "execution_count": 20,
      "outputs": []
    },
    {
      "cell_type": "code",
      "source": [
        "\n",
        "agent = initialize_agent(tools, llm, agent=\"zero-shot-react-description\", verbose=True)"
      ],
      "metadata": {
        "id": "ULFFSXUB2oNH"
      },
      "execution_count": 21,
      "outputs": []
    },
    {
      "cell_type": "code",
      "source": [
        "agent.run(\"IPR plot if Pr is 2300,J is 2.5,Pb is 700\")"
      ],
      "metadata": {
        "colab": {
          "base_uri": "https://localhost:8080/",
          "height": 523
        },
        "id": "QoeU8HRY2vYu",
        "outputId": "6f9e8671-8ac5-417d-d9c3-7591450742fe"
      },
      "execution_count": 21,
      "outputs": [
        {
          "output_type": "stream",
          "name": "stdout",
          "text": [
            "\n",
            "\n",
            "\u001b[1m> Entering new AgentExecutor chain...\u001b[0m\n",
            "\u001b[32;1m\u001b[1;3m I should use the IPR Plotter\n",
            "Action: IPR Plotter\n",
            "Action Input: 2300,2.5,700\u001b[0m"
          ]
        },
        {
          "output_type": "stream",
          "name": "stderr",
          "text": [
            "<ipython-input-6-43f5cd5d3f2a>:25: DeprecationWarning: setting an array element with a sequence. This was supported in some cases where the elements are arrays with a single element. For example `np.array([1, np.array([2])], dtype=int)`. In the future this will raise the same ValueError as `np.array([1, [2]], dtype=int)`.\n",
            "  qrate[:, count - 1] = [J[j] * (pr[p] - pwf) if pwf >= pb else (J[j] * (pr[p] - pb)) + (J[j] * pb / 1.8) * (1 - 0.2 * (pwf / pb) - 0.8 * (pwf / pb) ** 2) for pwf in pres[:, p]]\n"
          ]
        },
        {
          "output_type": "display_data",
          "data": {
            "text/plain": [
              "<Figure size 432x288 with 1 Axes>"
            ],
            "image/png": "[encoded data removed]"
          },
          "metadata": {
            "needs_background": "light"
          }
        },
        {
          "output_type": "stream",
          "name": "stdout",
          "text": [
            "\n",
            "Observation: \u001b[36;1m\u001b[1;3mNone\u001b[0m\n",
            "\u001b[32;1m\u001b[1;3m\u001b[0m\n",
            "\n",
            "\u001b[1m> Finished chain.\u001b[0m\n"
          ]
        }
      ]
    },
    {
      "cell_type": "code",
      "source": [
        "agent.run(\"Calculate pressure at depth 2000 and mud_weight is 9\")"
      ],
      "metadata": {
        "colab": {
          "base_uri": "https://localhost:8080/"
        },
        "id": "a-FfvKFscRaP",
        "outputId": "c39277b3-2331-42da-c5a0-c1d1c7cfcf0f"
      },
      "execution_count": 22,
      "outputs": [
        {
          "output_type": "stream",
          "name": "stdout",
          "text": [
            "\n",
            "\n",
            "\u001b[1m> Entering new AgentExecutor chain...\u001b[0m\n",
            "\u001b[32;1m\u001b[1;3m I should use the Pressure Calculator\n",
            "Action: Pressure Calculator\n",
            "Action Input: 2000,9\u001b[0m\n",
            "Observation: \u001b[33;1m\u001b[1;3m3070\u001b[0m\n",
            "\u001b[32;1m\u001b[1;3m\u001b[0m\n",
            "\n",
            "\u001b[1m> Finished chain.\u001b[0m\n"
          ]
        },
        {
          "output_type": "execute_result",
          "data": {
            "text/plain": [
              "3070"
            ]
          },
          "metadata": {},
          "execution_count": 22
        }
      ]
    }
  ]
}